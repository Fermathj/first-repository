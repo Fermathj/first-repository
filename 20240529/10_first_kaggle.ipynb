{
 "cells": [
  {
   "cell_type": "markdown",
   "id": "8d349ca0",
   "metadata": {},
   "source": [
    "# 10. 나의 첫 번째 캐글\n",
    "\n",
    "site:https://www.kaggle.com/competitions/2019-2nd-ml-month-with-kakr/overview\n",
    "baseLine : https://www.kaggle.com/code/kcs93023/2019-ml-month-2nd-baseline\n"
   ]
  }
 ],
 "metadata": {
  "kernelspec": {
   "display_name": "Python 3 (ipykernel)",
   "language": "python",
   "name": "python3"
  },
  "language_info": {
   "codemirror_mode": {
    "name": "ipython",
    "version": 3
   },
   "file_extension": ".py",
   "mimetype": "text/x-python",
   "name": "python",
   "nbconvert_exporter": "python",
   "pygments_lexer": "ipython3",
   "version": "3.9.7"
  }
 },
 "nbformat": 4,
 "nbformat_minor": 5
}
