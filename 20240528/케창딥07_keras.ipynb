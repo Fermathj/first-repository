{
 "cells": [
  {
   "cell_type": "markdown",
   "id": "48edafdc",
   "metadata": {},
   "source": [
    "## 케창딥7 keras"
   ]
  },
  {
   "cell_type": "markdown",
   "id": "ec28bec3",
   "metadata": {},
   "source": [
    "### Sequential 모델\n"
   ]
  },
  {
   "cell_type": "code",
   "execution_count": 5,
   "id": "1374d547",
   "metadata": {},
   "outputs": [],
   "source": [
    "# Sequential 클래스\n",
    "\n",
    "from tensorflow import keras\n",
    "from tensorflow.keras import layers\n",
    "\n",
    "model = keras.Sequential([\n",
    "    layers.Dense(64, activation=\"relu\"),\n",
    "    layers.Dense(10, activation=\"softmax\")\n",
    "])"
   ]
  },
  {
   "cell_type": "code",
   "execution_count": 8,
   "id": "9178539f",
   "metadata": {},
   "outputs": [],
   "source": [
    "# 점진적으로 Sequential 모델 만들기\n",
    "model = keras.Sequential()\n",
    "model.add(layers.Dense(64, activation=\"relu\"))\n",
    "model.add(layers.Dense(10, activation=\"softmax\"))\n",
    "\n",
    "## model.weights"
   ]
  },
  {
   "cell_type": "code",
   "execution_count": 9,
   "id": "bff0fed2",
   "metadata": {},
   "outputs": [
    {
     "data": {
      "text/plain": [
       "[<tf.Variable 'dense_10/kernel:0' shape=(3, 64) dtype=float32, numpy=\n",
       " array([[ 0.18836498,  0.05838525,  0.1319918 , -0.17338154, -0.16577797,\n",
       "          0.19982404, -0.2882865 , -0.18645887,  0.03212088, -0.04200274,\n",
       "          0.15520355, -0.10929705, -0.07839528, -0.17367747, -0.2767066 ,\n",
       "          0.06690407,  0.14482895, -0.283819  ,  0.07172778,  0.11833733,\n",
       "          0.17848822,  0.12427387,  0.21947676, -0.01607201,  0.18862277,\n",
       "         -0.17261861, -0.17799649,  0.22877711, -0.00123161,  0.20765251,\n",
       "         -0.01653826,  0.16803077,  0.1488834 ,  0.06411493,  0.07532397,\n",
       "          0.18351415,  0.07068667, -0.13695881,  0.02842981,  0.05239549,\n",
       "         -0.25366536,  0.03391585, -0.1537134 , -0.2642925 , -0.23893005,\n",
       "          0.10578561,  0.20318758,  0.10171118, -0.0925675 , -0.19901758,\n",
       "         -0.24832958, -0.27441663, -0.27571642, -0.28551736,  0.2688638 ,\n",
       "         -0.25667816,  0.01536751,  0.24196452, -0.24179415,  0.09498268,\n",
       "          0.18779534,  0.18928686,  0.04637825,  0.07936966],\n",
       "        [-0.00351879, -0.28414527, -0.1889486 ,  0.2243312 , -0.15924118,\n",
       "          0.02491859, -0.16171108,  0.22811276, -0.07324791, -0.12764326,\n",
       "         -0.02829617, -0.09516577,  0.08051279,  0.0494484 , -0.06306714,\n",
       "         -0.1904153 ,  0.13734978, -0.287389  ,  0.21799642,  0.25951642,\n",
       "          0.1314978 , -0.01982623, -0.24147259, -0.28292537,  0.17191741,\n",
       "         -0.13811734,  0.15872762,  0.18350181, -0.07867531,  0.09087551,\n",
       "          0.2619745 ,  0.2544589 ,  0.04068238,  0.05518287,  0.0087437 ,\n",
       "          0.03167042, -0.26359266, -0.15990008, -0.06521034, -0.02843624,\n",
       "          0.26389945, -0.23517832, -0.19775382, -0.26890826,  0.06831223,\n",
       "          0.02709162, -0.13295236,  0.15617561, -0.18431902,  0.0895035 ,\n",
       "          0.0883384 ,  0.00921309, -0.11501834,  0.23795217,  0.06645021,\n",
       "          0.06405851,  0.157702  , -0.24358383,  0.0247151 , -0.16550983,\n",
       "         -0.29145932,  0.1681731 ,  0.0028995 , -0.16150661],\n",
       "        [-0.11282797,  0.2853542 , -0.16155142,  0.27257758,  0.23578268,\n",
       "         -0.07265237,  0.07196674,  0.09927553, -0.10772114, -0.02628317,\n",
       "         -0.09766778, -0.2755671 ,  0.25218028, -0.29913238,  0.13064256,\n",
       "         -0.12285571,  0.02639055,  0.0920797 ,  0.09881711, -0.15198173,\n",
       "         -0.21004012,  0.19418165, -0.1713948 , -0.02081519,  0.25704658,\n",
       "         -0.20894444, -0.29276875, -0.19425721, -0.12163538,  0.01346803,\n",
       "         -0.09627843, -0.14357436, -0.23736882,  0.07816759, -0.07094282,\n",
       "          0.14243737,  0.11524165, -0.19952008,  0.23171026, -0.14383642,\n",
       "         -0.14904378,  0.27990162,  0.20798838,  0.04247448, -0.1579264 ,\n",
       "         -0.06744708,  0.27507144,  0.08617821,  0.26377195,  0.24747115,\n",
       "         -0.09706303,  0.24644524, -0.08860159, -0.02493784,  0.20755923,\n",
       "          0.2831611 , -0.27418917, -0.13964768,  0.13459   , -0.03480813,\n",
       "          0.05965152,  0.1763685 , -0.12201366,  0.21648937]],\n",
       "       dtype=float32)>,\n",
       " <tf.Variable 'dense_10/bias:0' shape=(64,) dtype=float32, numpy=\n",
       " array([0., 0., 0., 0., 0., 0., 0., 0., 0., 0., 0., 0., 0., 0., 0., 0., 0.,\n",
       "        0., 0., 0., 0., 0., 0., 0., 0., 0., 0., 0., 0., 0., 0., 0., 0., 0.,\n",
       "        0., 0., 0., 0., 0., 0., 0., 0., 0., 0., 0., 0., 0., 0., 0., 0., 0.,\n",
       "        0., 0., 0., 0., 0., 0., 0., 0., 0., 0., 0., 0., 0.], dtype=float32)>,\n",
       " <tf.Variable 'dense_11/kernel:0' shape=(64, 10) dtype=float32, numpy=\n",
       " array([[-0.16396989,  0.16715688, -0.02477801, -0.2347323 , -0.03395641,\n",
       "         -0.12704746,  0.03315398,  0.17219052,  0.1295971 ,  0.23663571],\n",
       "        [ 0.22474214, -0.22780788,  0.09320423,  0.19749662,  0.28143087,\n",
       "         -0.22482918,  0.06239909,  0.1138941 ,  0.05198422, -0.00395665],\n",
       "        [-0.09075235,  0.00796673, -0.06104252,  0.05051714, -0.18819365,\n",
       "         -0.14638878,  0.25938275, -0.10089545, -0.27895898, -0.2116437 ],\n",
       "        [-0.11591475, -0.04718386, -0.00443518,  0.02529004,  0.15448844,\n",
       "          0.02333605,  0.11189544, -0.16997358, -0.04471689,  0.10205248],\n",
       "        [ 0.16596752, -0.08751994,  0.2197425 ,  0.03756213, -0.25206593,\n",
       "          0.00684968, -0.27180028, -0.22955623, -0.12928991, -0.2478323 ],\n",
       "        [ 0.2506099 ,  0.02356437,  0.25982425, -0.19884355, -0.02054092,\n",
       "         -0.03156292, -0.15413949, -0.10330816, -0.07733902,  0.2801256 ],\n",
       "        [-0.12460421,  0.09764451,  0.11755833,  0.18526405, -0.21396938,\n",
       "         -0.07412747,  0.22844324, -0.09362717, -0.23223716, -0.00374192],\n",
       "        [ 0.11856207,  0.16808853, -0.0182223 , -0.21541065,  0.17379072,\n",
       "          0.00189796, -0.24558286, -0.1210456 ,  0.0601269 , -0.1791346 ],\n",
       "        [-0.14055243,  0.20607856, -0.01869026,  0.06058794, -0.00254864,\n",
       "         -0.19275221, -0.06213683, -0.21756688, -0.12283753, -0.04454996],\n",
       "        [ 0.2799383 ,  0.00750133, -0.15024279,  0.13332441, -0.00610188,\n",
       "         -0.11609031, -0.2480042 ,  0.21319014, -0.10021642,  0.03728664],\n",
       "        [ 0.14968604, -0.02795711,  0.08550519, -0.19938299,  0.03642717,\n",
       "         -0.25419956,  0.16437647,  0.18552813,  0.07479048,  0.07419765],\n",
       "        [-0.24701302,  0.0594191 , -0.27699813,  0.02973488,  0.08589208,\n",
       "         -0.07405658, -0.2774942 , -0.00908437,  0.1494269 ,  0.109009  ],\n",
       "        [ 0.11283123, -0.02002308,  0.06330213,  0.2077542 , -0.23233017,\n",
       "          0.06834948,  0.15564093, -0.1177633 ,  0.0482637 ,  0.01128614],\n",
       "        [ 0.15512985,  0.02461019,  0.23541424,  0.2708815 , -0.24790563,\n",
       "          0.16602746,  0.12215048,  0.21091843,  0.00088927,  0.16859898],\n",
       "        [-0.1999936 , -0.00499785, -0.11050989,  0.11918449, -0.2027384 ,\n",
       "          0.12491608,  0.14939165,  0.1140002 , -0.17811315, -0.04162069],\n",
       "        [-0.2232826 , -0.14421831,  0.2011238 , -0.27523586, -0.05386963,\n",
       "          0.2600765 , -0.2080085 ,  0.16041827, -0.0168409 , -0.145123  ],\n",
       "        [ 0.1833924 ,  0.19621977, -0.03482933,  0.01110807,  0.008672  ,\n",
       "          0.1605019 , -0.27205396,  0.02770084, -0.26150218, -0.1446617 ],\n",
       "        [-0.21124092, -0.2571913 , -0.23011787, -0.21671963,  0.06257641,\n",
       "          0.23873821,  0.05257681,  0.13105434, -0.07170294,  0.01410666],\n",
       "        [ 0.21065754,  0.23502687,  0.0345484 , -0.1755225 , -0.00701824,\n",
       "         -0.0372643 ,  0.2830533 ,  0.17848852, -0.13359015,  0.17508164],\n",
       "        [ 0.1662234 , -0.06028433, -0.2793113 ,  0.03852662,  0.26227805,\n",
       "         -0.2564733 ,  0.06579801,  0.10558373,  0.02241427, -0.25186884],\n",
       "        [ 0.19370869,  0.20879596,  0.26833758,  0.13480908,  0.27984932,\n",
       "          0.1896987 ,  0.0426397 , -0.0790949 ,  0.24268082,  0.243548  ],\n",
       "        [-0.2612858 , -0.17820399,  0.14475322,  0.1659638 , -0.04403637,\n",
       "          0.16753969,  0.12332478,  0.16859421,  0.20266467, -0.10212797],\n",
       "        [ 0.05987531,  0.11360821,  0.1301843 ,  0.2300159 , -0.00293654,\n",
       "         -0.23019147,  0.12492234, -0.12131409, -0.25826734, -0.26197502],\n",
       "        [ 0.03083393,  0.04067805,  0.21615991, -0.23113702,  0.12535417,\n",
       "         -0.07634683,  0.08871853,  0.00880337,  0.17792067, -0.09885028],\n",
       "        [-0.12735534,  0.00979701, -0.24041359,  0.1371148 , -0.10276836,\n",
       "         -0.21754754, -0.1259512 ,  0.01161617,  0.03033304, -0.09591374],\n",
       "        [ 0.24782172,  0.17776209,  0.06439719, -0.23436712,  0.16384763,\n",
       "         -0.28239733,  0.08504951, -0.17625666,  0.21205246, -0.08151419],\n",
       "        [ 0.06970191, -0.25756535, -0.19837879, -0.13295789, -0.21979922,\n",
       "          0.13469124, -0.10324556,  0.23047265, -0.25146228,  0.27431574],\n",
       "        [-0.04007988, -0.05580923, -0.1263328 ,  0.10973901,  0.12015191,\n",
       "          0.25796017,  0.02297965,  0.01879781, -0.12157032,  0.26971868],\n",
       "        [ 0.02867261, -0.00607792, -0.2779206 , -0.08919442, -0.03033093,\n",
       "          0.20588562,  0.05594411, -0.04918258, -0.21852195, -0.11843656],\n",
       "        [ 0.20656356,  0.0573315 ,  0.08681756, -0.0808531 , -0.2812615 ,\n",
       "         -0.08395664,  0.26118675,  0.16426295, -0.04169822,  0.15160057],\n",
       "        [ 0.26663908,  0.20800924, -0.08940502, -0.05019046,  0.09498408,\n",
       "         -0.05735126,  0.00036478, -0.0709383 ,  0.11296767,  0.08285832],\n",
       "        [-0.28431922, -0.28192592, -0.08990747, -0.25848728, -0.28290027,\n",
       "         -0.1807488 , -0.25159973,  0.21217066,  0.16989776, -0.05179088],\n",
       "        [ 0.03832215, -0.09626561,  0.01542202, -0.01090753, -0.04474908,\n",
       "         -0.06403059,  0.08435908, -0.21020608,  0.14072984, -0.28128994],\n",
       "        [ 0.28388003,  0.02523071, -0.21650802,  0.02786875,  0.1251019 ,\n",
       "          0.1489738 ,  0.2577177 ,  0.18842557, -0.25077456,  0.06825221],\n",
       "        [-0.15979002,  0.19844267, -0.18633458, -0.20438975, -0.13209258,\n",
       "         -0.02585611, -0.07221958,  0.15235224, -0.04825746, -0.10000576],\n",
       "        [-0.18722251,  0.2469475 ,  0.05598453,  0.22093752,  0.10400537,\n",
       "          0.07620752,  0.03200895,  0.23349646,  0.11266768,  0.04670164],\n",
       "        [-0.16423032,  0.22863176, -0.15890183,  0.21605596,  0.02452031,\n",
       "          0.1520555 ,  0.03048626,  0.24817088,  0.2649707 , -0.11655909],\n",
       "        [-0.1876185 , -0.24964875,  0.07697019, -0.06599462,  0.06142792,\n",
       "          0.05963144,  0.03734389, -0.28429085, -0.2731607 ,  0.23379192],\n",
       "        [-0.24068053,  0.19501686,  0.034659  , -0.27005118, -0.21541303,\n",
       "         -0.05805425,  0.14665267,  0.03060406,  0.15409222, -0.04002455],\n",
       "        [-0.00531244,  0.10958734,  0.14330739,  0.16087767, -0.25992313,\n",
       "          0.1771037 ,  0.03779888, -0.14386033, -0.15374695,  0.28459057],\n",
       "        [-0.26380402,  0.11290088, -0.09070197, -0.18592787, -0.08768287,\n",
       "          0.19075567,  0.13747665, -0.16952994,  0.22995195, -0.09543866],\n",
       "        [ 0.2076191 ,  0.04987544, -0.22049765, -0.2816374 , -0.01461664,\n",
       "         -0.22090995, -0.12203908, -0.05974421, -0.17754307, -0.04182944],\n",
       "        [-0.11967607,  0.23605749, -0.19757178,  0.0652625 ,  0.25028607,\n",
       "         -0.11627428, -0.03708413, -0.07211605,  0.15321252, -0.12309068],\n",
       "        [ 0.24063203,  0.02943352, -0.07572897, -0.27883697,  0.23620656,\n",
       "         -0.10539941,  0.07232577,  0.12230611, -0.28454855,  0.25319412],\n",
       "        [ 0.2839301 ,  0.1880356 ,  0.19393349, -0.23365855,  0.12339544,\n",
       "          0.15961874, -0.2741715 , -0.06854895, -0.20914626, -0.25408882],\n",
       "        [ 0.08374062,  0.2160869 , -0.0126563 ,  0.23962596, -0.01451245,\n",
       "          0.18835321, -0.2553551 ,  0.2775081 ,  0.2833931 ,  0.039309  ],\n",
       "        [ 0.07650119,  0.08554721, -0.12947913, -0.10234664, -0.10176849,\n",
       "          0.24749532, -0.17913759, -0.13212422, -0.11018865, -0.03645901],\n",
       "        [-0.08174387, -0.17136219, -0.11840002, -0.18704158, -0.04070064,\n",
       "          0.02776533,  0.27970842, -0.00677601,  0.01143605,  0.05547392],\n",
       "        [ 0.09921423,  0.2842234 , -0.03027084,  0.22804657,  0.0621143 ,\n",
       "          0.05973667, -0.2674065 , -0.09779957,  0.27824035,  0.26126388],\n",
       "        [ 0.0679034 , -0.20549506,  0.27153048, -0.1449934 ,  0.18538141,\n",
       "          0.06804678, -0.0493912 , -0.22031353, -0.2252467 ,  0.0406889 ],\n",
       "        [ 0.0028201 ,  0.26483825, -0.0863519 , -0.07241103,  0.2545003 ,\n",
       "         -0.08239315, -0.16135237, -0.20073467, -0.03890145,  0.24807146],\n",
       "        [-0.18569317,  0.13907775,  0.06099975,  0.2705936 , -0.24189445,\n",
       "          0.08604836, -0.00637457, -0.0399071 , -0.0501688 ,  0.10294238],\n",
       "        [ 0.22934529,  0.06061965, -0.2690468 ,  0.14099887,  0.14621976,\n",
       "         -0.13908862, -0.21422939, -0.10256715, -0.0709753 , -0.10922985],\n",
       "        [ 0.11563084, -0.06950802,  0.05402943,  0.09546033, -0.26769462,\n",
       "         -0.10811721,  0.26546094, -0.11827667,  0.06965628,  0.09709331],\n",
       "        [-0.01593104,  0.11514053,  0.13753057, -0.19076537,  0.2297863 ,\n",
       "         -0.01600024,  0.27893028,  0.13079113,  0.02184156, -0.2426001 ],\n",
       "        [ 0.07580766, -0.17849869, -0.04130642,  0.08448529,  0.24394408,\n",
       "         -0.16519298,  0.1619085 ,  0.03728962,  0.2570149 , -0.06035861],\n",
       "        [-0.07969497, -0.21273413,  0.08270335, -0.22236297,  0.00803733,\n",
       "         -0.20899332, -0.22409666, -0.04110561,  0.00553283,  0.20510325],\n",
       "        [-0.2028171 , -0.17225507, -0.2575995 ,  0.26571152,  0.10728753,\n",
       "         -0.04630075,  0.10722509,  0.10386932, -0.26499766,  0.03349477],\n",
       "        [ 0.04247248,  0.08752877, -0.21819106, -0.14121884,  0.1475065 ,\n",
       "         -0.2289702 , -0.09532501,  0.2798027 , -0.1563625 , -0.06950971],\n",
       "        [-0.27300408,  0.28469375, -0.11928463,  0.07895961, -0.02358636,\n",
       "         -0.0024077 , -0.1891006 ,  0.16777024,  0.16396078,  0.13107717],\n",
       "        [-0.16422394,  0.2632608 ,  0.01202905,  0.15165985,  0.22926024,\n",
       "         -0.05993865, -0.25911954,  0.20762181, -0.14626801,  0.05774942],\n",
       "        [ 0.2826456 ,  0.14893809, -0.18061587,  0.20710579,  0.03759724,\n",
       "         -0.05058645,  0.2546254 , -0.10015844, -0.05032712, -0.04070303],\n",
       "        [-0.14860217,  0.01607445,  0.18831804,  0.02194262,  0.18386844,\n",
       "         -0.17564395, -0.09191339,  0.10142395, -0.19688055,  0.19393244],\n",
       "        [-0.05093133,  0.14868799, -0.14908391, -0.04264289, -0.16329384,\n",
       "          0.07364511,  0.13520291, -0.24279147,  0.06755382, -0.19598019]],\n",
       "       dtype=float32)>,\n",
       " <tf.Variable 'dense_11/bias:0' shape=(10,) dtype=float32, numpy=array([0., 0., 0., 0., 0., 0., 0., 0., 0., 0.], dtype=float32)>]"
      ]
     },
     "execution_count": 9,
     "metadata": {},
     "output_type": "execute_result"
    }
   ],
   "source": [
    "# 가중치를 만들기위한 모델 호출  : build 메서드 호출전에는 가중치가 없다. \n",
    "# 아래 코드의 빌드로 이제 모델은 크기가 (3,) 안 샘플을 기대한다. \n",
    "# 입력크기의 none 은 어떤 배치크기도 가능하다는 의미\n",
    "\n",
    "model.build(input_shape=(None, 3))\n",
    "model.weights"
   ]
  },
  {
   "cell_type": "code",
   "execution_count": 10,
   "id": "c6c3890a",
   "metadata": {},
   "outputs": [
    {
     "name": "stdout",
     "output_type": "stream",
     "text": [
      "Model: \"sequential_5\"\n",
      "_________________________________________________________________\n",
      "Layer (type)                 Output Shape              Param #   \n",
      "=================================================================\n",
      "dense_10 (Dense)             (None, 64)                256       \n",
      "_________________________________________________________________\n",
      "dense_11 (Dense)             (None, 10)                650       \n",
      "=================================================================\n",
      "Total params: 906\n",
      "Trainable params: 906\n",
      "Non-trainable params: 0\n",
      "_________________________________________________________________\n"
     ]
    }
   ],
   "source": [
    "model.summary()"
   ]
  },
  {
   "cell_type": "code",
   "execution_count": 11,
   "id": "602ce726",
   "metadata": {},
   "outputs": [
    {
     "name": "stdout",
     "output_type": "stream",
     "text": [
      "Model: \"my_example_model\"\n",
      "_________________________________________________________________\n",
      "Layer (type)                 Output Shape              Param #   \n",
      "=================================================================\n",
      "my_first_layer (Dense)       (None, 64)                256       \n",
      "_________________________________________________________________\n",
      "my_last_layer (Dense)        (None, 10)                650       \n",
      "=================================================================\n",
      "Total params: 906\n",
      "Trainable params: 906\n",
      "Non-trainable params: 0\n",
      "_________________________________________________________________\n"
     ]
    }
   ],
   "source": [
    "# name 매개변수로 모델과 층에 이름 지정하기\n",
    "\n",
    "model = keras.Sequential(name=\"my_example_model\")\n",
    "model.add(layers.Dense(64, activation=\"relu\", name=\"my_first_layer\"))\n",
    "model.add(layers.Dense(10, activation=\"softmax\", name=\"my_last_layer\"))\n",
    "model.build((None, 3))\n",
    "model.summary()"
   ]
  },
  {
   "cell_type": "code",
   "execution_count": 12,
   "id": "2c8cf3a7",
   "metadata": {},
   "outputs": [
    {
     "name": "stdout",
     "output_type": "stream",
     "text": [
      "Model: \"sequential_6\"\n",
      "_________________________________________________________________\n",
      "Layer (type)                 Output Shape              Param #   \n",
      "=================================================================\n",
      "dense_12 (Dense)             (None, 64)                256       \n",
      "=================================================================\n",
      "Total params: 256\n",
      "Trainable params: 256\n",
      "Non-trainable params: 0\n",
      "_________________________________________________________________\n"
     ]
    }
   ],
   "source": [
    "# 모델의 입력 크기를 미리 지정하기\n",
    "\n",
    "model = keras.Sequential()\n",
    "model.add(keras.Input(shape=(3,)))\n",
    "model.add(layers.Dense(64, activation=\"relu\"))\n",
    "\n",
    "model.summary()"
   ]
  },
  {
   "cell_type": "code",
   "execution_count": 13,
   "id": "013fb1f8",
   "metadata": {},
   "outputs": [
    {
     "name": "stdout",
     "output_type": "stream",
     "text": [
      "Model: \"sequential_6\"\n",
      "_________________________________________________________________\n",
      "Layer (type)                 Output Shape              Param #   \n",
      "=================================================================\n",
      "dense_12 (Dense)             (None, 64)                256       \n",
      "_________________________________________________________________\n",
      "dense_13 (Dense)             (None, 10)                650       \n",
      "=================================================================\n",
      "Total params: 906\n",
      "Trainable params: 906\n",
      "Non-trainable params: 0\n",
      "_________________________________________________________________\n"
     ]
    }
   ],
   "source": [
    "model.add(layers.Dense(10, activation=\"softmax\"))\n",
    "model.summary()"
   ]
  },
  {
   "cell_type": "markdown",
   "id": "edde6f74",
   "metadata": {},
   "source": [
    "### 함수형 API"
   ]
  },
  {
   "cell_type": "code",
   "execution_count": 14,
   "id": "1bebe1db",
   "metadata": {},
   "outputs": [],
   "source": [
    "##두 개의 Dense 층을 가진 간단한 함수형 모델\n",
    "\n",
    "inputs = keras.Input(shape=(3,), name=\"my_input\")\n",
    "features = layers.Dense(64, activation=\"relu\")(inputs)\n",
    "outputs = layers.Dense(10, activation=\"softmax\")(features)\n",
    "model = keras.Model(inputs=inputs, outputs=outputs)\n"
   ]
  },
  {
   "cell_type": "code",
   "execution_count": 15,
   "id": "d49ff453",
   "metadata": {},
   "outputs": [
    {
     "data": {
      "text/plain": [
       "TensorShape([None, 3])"
      ]
     },
     "execution_count": 15,
     "metadata": {},
     "output_type": "execute_result"
    }
   ],
   "source": [
    "#  뜯어보기\n",
    "inputs = keras.Input(shape=(3,), name=\"my_input\")\n",
    "inputs.shape"
   ]
  },
  {
   "cell_type": "code",
   "execution_count": 16,
   "id": "494b2a80",
   "metadata": {},
   "outputs": [
    {
     "data": {
      "text/plain": [
       "tf.float32"
      ]
     },
     "execution_count": 16,
     "metadata": {},
     "output_type": "execute_result"
    }
   ],
   "source": [
    "inputs.dtype"
   ]
  },
  {
   "cell_type": "code",
   "execution_count": 18,
   "id": "1b21a045",
   "metadata": {},
   "outputs": [
    {
     "data": {
      "text/plain": [
       "TensorShape([None, 64])"
      ]
     },
     "execution_count": 18,
     "metadata": {},
     "output_type": "execute_result"
    }
   ],
   "source": [
    "# features 뜯어보기\n",
    "\n",
    "features = layers.Dense(64, activation=\"relu\")(inputs)\n",
    "features.shape\n",
    "# features 뜯어보기"
   ]
  },
  {
   "cell_type": "code",
   "execution_count": 19,
   "id": "3adf2844",
   "metadata": {},
   "outputs": [
    {
     "name": "stdout",
     "output_type": "stream",
     "text": [
      "Model: \"model_1\"\n",
      "_________________________________________________________________\n",
      "Layer (type)                 Output Shape              Param #   \n",
      "=================================================================\n",
      "my_input (InputLayer)        [(None, 3)]               0         \n",
      "_________________________________________________________________\n",
      "dense_17 (Dense)             (None, 64)                256       \n",
      "_________________________________________________________________\n",
      "dense_18 (Dense)             (None, 10)                650       \n",
      "=================================================================\n",
      "Total params: 906\n",
      "Trainable params: 906\n",
      "Non-trainable params: 0\n",
      "_________________________________________________________________\n"
     ]
    }
   ],
   "source": [
    "# outputs 뜯어보기\n",
    "\n",
    "outputs = layers.Dense(10, activation=\"softmax\")(features)\n",
    "model = keras.Model(inputs=inputs, outputs=outputs)\n",
    "model.summary()"
   ]
  },
  {
   "cell_type": "markdown",
   "id": "7e759702",
   "metadata": {},
   "source": [
    "## 다중 입력, 다중 출력 함수형 모델"
   ]
  },
  {
   "cell_type": "code",
   "execution_count": 21,
   "id": "1749f4e5",
   "metadata": {},
   "outputs": [],
   "source": [
    "vocabulary_size = 10000\n",
    "num_tags = 100\n",
    "num_departments = 4\n",
    "\n",
    "title = keras.Input(shape=(vocabulary_size,), name=\"title\")\n",
    "text_body = keras.Input(shape=(vocabulary_size,), name=\"text_body\")\n",
    "tags = keras.Input(shape=(num_tags,), name=\"tags\")\n",
    "\n",
    "features = layers.Concatenate()([title, text_body, tags])\n",
    "features = layers.Dense(64, activation=\"relu\")(features)\n",
    "\n",
    "priority = layers.Dense(1, activation=\"sigmoid\", name=\"priority\")(features)\n",
    "department = layers.Dense(\n",
    "    num_departments, activation=\"softmax\", name=\"department\")(features)\n",
    "\n",
    "model = keras.Model(inputs=[title, text_body, tags], outputs=[priority, department])"
   ]
  },
  {
   "cell_type": "code",
   "execution_count": 22,
   "id": "1b011dab",
   "metadata": {},
   "outputs": [
    {
     "name": "stdout",
     "output_type": "stream",
     "text": [
      "40/40 [==============================] - 2s 23ms/step - loss: 20.2587 - priority_loss: 0.3232 - department_loss: 19.9355 - priority_mean_absolute_error: 0.4927 - department_accuracy: 0.2508\n",
      "40/40 [==============================] - 0s 7ms/step - loss: 10.2351 - priority_loss: 0.3321 - department_loss: 9.9030 - priority_mean_absolute_error: 0.5004 - department_accuracy: 0.2812\n"
     ]
    }
   ],
   "source": [
    "# 다중 입력, 다중 출력 모델 훈련하기\n",
    "# 입력과 타깃 배열 리스트를 전달하여 모델 훈련하기\n",
    "\n",
    "\n",
    "import numpy as np\n",
    "\n",
    "num_samples = 1280\n",
    "\n",
    "title_data = np.random.randint(0, 2, size=(num_samples, vocabulary_size))  ## ( 1280 * 10000)\n",
    "text_body_data = np.random.randint(0, 2, size=(num_samples, vocabulary_size))\n",
    "tags_data = np.random.randint(0, 2, size=(num_samples, num_tags))\n",
    "\n",
    "priority_data = np.random.random(size=(num_samples, 1))\n",
    "department_data = np.random.randint(0, 2, size=(num_samples, num_departments))\n",
    "\n",
    "model.compile(optimizer=\"rmsprop\",\n",
    "              loss=[\"mean_squared_error\", \"categorical_crossentropy\"],\n",
    "              metrics=[[\"mean_absolute_error\"], [\"accuracy\"]])\n",
    "model.fit([title_data, text_body_data, tags_data],\n",
    "          [priority_data, department_data],\n",
    "          epochs=1)\n",
    "model.evaluate([title_data, text_body_data, tags_data],\n",
    "               [priority_data, department_data])\n",
    "priority_preds, department_preds = model.predict([title_data, text_body_data, tags_data])"
   ]
  },
  {
   "cell_type": "code",
   "execution_count": 24,
   "id": "c957e784",
   "metadata": {},
   "outputs": [
    {
     "name": "stdout",
     "output_type": "stream",
     "text": [
      "40/40 [==============================] - 1s 21ms/step - loss: 23.7158 - priority_loss: 0.3321 - department_loss: 23.3837 - priority_mean_absolute_error: 0.5004 - department_accuracy: 0.2883\n",
      "40/40 [==============================] - 0s 8ms/step - loss: 16.1381 - priority_loss: 0.3321 - department_loss: 15.8060 - priority_mean_absolute_error: 0.5004 - department_accuracy: 0.1328\n"
     ]
    }
   ],
   "source": [
    "# 입력과 타깃 배열을 딕셔너리로 전달하여 모델 훈련하기\n",
    "model.compile(optimizer=\"rmsprop\",\n",
    "              loss={\"priority\": \"mean_squared_error\", \"department\": \"categorical_crossentropy\"},\n",
    "              metrics={\"priority\": [\"mean_absolute_error\"], \"department\": [\"accuracy\"]})\n",
    "model.fit({\"title\": title_data, \"text_body\": text_body_data, \"tags\": tags_data},\n",
    "          {\"priority\": priority_data, \"department\": department_data},\n",
    "          epochs=1)\n",
    "model.evaluate({\"title\": title_data, \"text_body\": text_body_data, \"tags\": tags_data},\n",
    "               {\"priority\": priority_data, \"department\": department_data})\n",
    "priority_preds, department_preds = model.predict(\n",
    "    {\"title\": title_data, \"text_body\": text_body_data, \"tags\": tags_data})"
   ]
  },
  {
   "cell_type": "markdown",
   "id": "827d9f52",
   "metadata": {},
   "source": [
    "## 함수형 API의 장점: 층 연결 구조 활용하기"
   ]
  },
  {
   "cell_type": "code",
   "execution_count": 25,
   "id": "5ea4ff5b",
   "metadata": {},
   "outputs": [
    {
     "data": {
      "image/png": "[encoded data removed]",
      "text/plain": [
       "<IPython.core.display.Image object>"
      ]
     },
     "execution_count": 25,
     "metadata": {},
     "output_type": "execute_result"
    }
   ],
   "source": [
    "keras.utils.plot_model(model, \"ticket_classifier.png\")"
   ]
  },
  {
   "cell_type": "code",
   "execution_count": 26,
   "id": "4676591f",
   "metadata": {},
   "outputs": [
    {
     "data": {
      "image/png": "[encoded data removed]",
      "text/plain": [
       "<IPython.core.display.Image object>"
      ]
     },
     "execution_count": 26,
     "metadata": {},
     "output_type": "execute_result"
    }
   ],
   "source": [
    "keras.utils.plot_model(model, \"ticket_classifier_with_shape_info.png\", show_shapes=True)"
   ]
  },
  {
   "cell_type": "markdown",
   "id": "ba04d267",
   "metadata": {},
   "source": [
    "## Model 서브클래싱"
   ]
  },
  {
   "cell_type": "code",
   "execution_count": 30,
   "id": "ca18d1c3",
   "metadata": {},
   "outputs": [],
   "source": [
    "#간단한 서브클래싱 모델\n",
    "# 레이어 와 모델의 상속의 차이는 레이어는 모델을 만드는데 사용하는 구성요소고 \n",
    "# 모델은 실제 훈련하고 추론하는 최상위 객체\n",
    "class CustomerTicketModel(keras.Model):\n",
    "\n",
    "    def __init__(self, num_departments):\n",
    "        super().__init__()\n",
    "        self.concat_layer = layers.Concatenate()\n",
    "        self.mixing_layer = layers.Dense(64, activation=\"relu\")\n",
    "        self.priority_scorer = layers.Dense(1, activation=\"sigmoid\")\n",
    "        self.department_classifier = layers.Dense(num_departments, activation=\"softmax\")\n",
    "\n",
    "    def call(self, inputs):\n",
    "        title = inputs[\"title\"]\n",
    "        text_body = inputs[\"text_body\"]\n",
    "        tags = inputs[\"tags\"]\n",
    "\n",
    "        features = self.concat_layer([title, text_body, tags])\n",
    "        features = self.mixing_layer(features)\n",
    "        priority = self.priority_scorer(features)\n",
    "        department = self.department_classifier(features)\n",
    "        return priority, department\n"
   ]
  },
  {
   "cell_type": "code",
   "execution_count": 32,
   "id": "79b1a3d8",
   "metadata": {},
   "outputs": [],
   "source": [
    "# 객체를 호출할때 가중치를 만들음\n",
    "\n",
    "model = CustomerTicketModel(num_departments=4)\n",
    "\n",
    "priority, department = model({\"title\": title_data, \"text_body\": text_body_data, \"tags\": tags_data})"
   ]
  },
  {
   "cell_type": "code",
   "execution_count": 33,
   "id": "8373f3b1",
   "metadata": {},
   "outputs": [
    {
     "name": "stdout",
     "output_type": "stream",
     "text": [
      "40/40 [==============================] - 2s 22ms/step - loss: 24.0682 - output_1_loss: 0.3248 - output_2_loss: 23.7434 - output_1_mean_absolute_error: 0.4929 - output_2_accuracy: 0.2578\n",
      "40/40 [==============================] - 1s 8ms/step - loss: 26.8170 - output_1_loss: 0.3313 - output_2_loss: 26.4857 - output_1_mean_absolute_error: 0.4996 - output_2_accuracy: 0.5617\n"
     ]
    }
   ],
   "source": [
    "# 모델을 사용하여 만든것은 컴파일하고 훝련한다.\n",
    "\n",
    "model.compile(optimizer=\"rmsprop\",\n",
    "              loss=[\"mean_squared_error\", \"categorical_crossentropy\"],\n",
    "              metrics=[[\"mean_absolute_error\"], [\"accuracy\"]])\n",
    "model.fit({\"title\": title_data,\n",
    "           \"text_body\": text_body_data,\n",
    "           \"tags\": tags_data},\n",
    "          [priority_data, department_data],\n",
    "          epochs=1)\n",
    "model.evaluate({\"title\": title_data,\n",
    "                \"text_body\": text_body_data,\n",
    "                \"tags\": tags_data},\n",
    "               [priority_data, department_data])\n",
    "priority_preds, department_preds = model.predict({\"title\": title_data,\n",
    "                                                  \"text_body\": text_body_data,\n",
    "                                                  \"tags\": tags_data})"
   ]
  },
  {
   "cell_type": "code",
   "execution_count": null,
   "id": "fe4cbbc1",
   "metadata": {},
   "outputs": [],
   "source": [
    "## 여러방식을 사용하기 \n",
    "\n"
   ]
  },
  {
   "cell_type": "code",
   "execution_count": 34,
   "id": "92eec2b9",
   "metadata": {},
   "outputs": [
    {
     "name": "stdout",
     "output_type": "stream",
     "text": [
      "Downloading data from https://storage.googleapis.com/tensorflow/tf-keras-datasets/mnist.npz\n",
      "11493376/11490434 [==============================] - 0s 0us/step\n",
      "11501568/11490434 [==============================] - 0s 0us/step\n",
      "Epoch 1/3\n",
      "1563/1563 [==============================] - 9s 6ms/step - loss: 0.2955 - sparse_categorical_accuracy: 0.9124\n",
      "Epoch 2/3\n",
      "1563/1563 [==============================] - 9s 6ms/step - loss: 0.1643 - sparse_categorical_accuracy: 0.9533\n",
      "Epoch 3/3\n",
      "1563/1563 [==============================] - 9s 6ms/step - loss: 0.1395 - sparse_categorical_accuracy: 0.9620\n"
     ]
    },
    {
     "data": {
      "text/plain": [
       "<keras.callbacks.History at 0x7bf0c2bba880>"
      ]
     },
     "execution_count": 34,
     "metadata": {},
     "output_type": "execute_result"
    }
   ],
   "source": [
    "## 조별 과제\n",
    "\n",
    "\n",
    "from tensorflow.keras.datasets import mnist\n",
    "\n",
    "def get_mnist_model():\n",
    "    inputs = keras.Input(shape=(28 * 28,))\n",
    "    features = layers.Dense(512, activation=\"relu\")(inputs)\n",
    "    features = layers.Dropout(0.5)(features)\n",
    "    outputs = layers.Dense(10, activation=\"softmax\")(features)\n",
    "    model = keras.Model(inputs, outputs)\n",
    "    return model\n",
    "\n",
    "(images, labels), (test_images, test_labels) = mnist.load_data()\n",
    "images = images.reshape((60000, 28 * 28)).astype(\"float32\") / 255\n",
    "test_images = test_images.reshape((10000, 28 * 28)).astype(\"float32\") / 255\n",
    "train_images, val_images = images[10000:], images[:10000]\n",
    "train_labels, val_labels = labels[10000:], labels[:10000]\n",
    "\n",
    "import tensorflow as tf\n",
    "from tensorflow import keras\n",
    "\n",
    "# Quest: 사용자 정의 훈련 스텝을 사용하는 모델\n",
    "class CustomModel(keras.Model):\n",
    "    def train_step(self, data): ##   train step 함수정의\n",
    "        inputs, targets = data\n",
    "        with tf.GradientTape() as tape:\n",
    "            predictions = self(inputs, training=True)\n",
    "            loss = self.compiled_loss(targets, predictions)\n",
    "        gradients = tape.gradient(loss, self.trainable_weights)\n",
    "        self.optimizer.apply_gradients(zip(gradients, self.trainable_weights))\n",
    "        self.compiled_metrics.update_state(targets, predictions)\n",
    "        return {m.name: m.result() for m in self.metrics}\n",
    "\n",
    "from tensorflow.keras import layers\n",
    "\n",
    "inputs = keras.Input(shape=(28 * 28,))\n",
    "features = layers.Dense(512, activation=\"relu\")(inputs)\n",
    "features = layers.Dropout(0.5)(features)\n",
    "outputs = layers.Dense(10, activation=\"softmax\")(features)\n",
    "model = CustomModel(inputs, outputs)\n",
    "\n",
    "model.compile(optimizer=keras.optimizers.RMSprop(),\n",
    "              loss=keras.losses.SparseCategoricalCrossentropy(),\n",
    "              metrics=[keras.metrics.SparseCategoricalAccuracy()])\n",
    "model.fit(train_images, train_labels, epochs=3)"
   ]
  },
  {
   "cell_type": "markdown",
   "id": "4ef2dd58",
   "metadata": {},
   "source": [
    "- 오늘의 노트북 파일에 모의실험 및 조별 발표 시 기록했던 내용\n",
    "1. CustomModel class를 생성하고 train_step 함수를 정의 한다\n",
    "    train_step 는 순전파 역전파 과정을 순차적으로 코딩.\n",
    "2. compile 하고 모델 핏..."
   ]
  },
  {
   "cell_type": "markdown",
   "id": "d266c0e7",
   "metadata": {},
   "source": [
    "- 회고\n",
    "CustomModel class 를 생성하고 CustomModel class 에서 loss 와 gradients 를 구해서 gradients 를  optimizering 홰주는 과정을 다 설계하고 개발하는 것이 사용자가 집접 설계 개발 장점이 있다....지만 생산성? 재사용성? 퍼포먼스 측면에서 더 나은 건지 모르겠다.\n"
   ]
  },
  {
   "cell_type": "code",
   "execution_count": null,
   "id": "f3df34b4",
   "metadata": {},
   "outputs": [],
   "source": []
  }
 ],
 "metadata": {
  "kernelspec": {
   "display_name": "Python 3 (ipykernel)",
   "language": "python",
   "name": "python3"
  },
  "language_info": {
   "codemirror_mode": {
    "name": "ipython",
    "version": 3
   },
   "file_extension": ".py",
   "mimetype": "text/x-python",
   "name": "python",
   "nbconvert_exporter": "python",
   "pygments_lexer": "ipython3",
   "version": "3.9.7"
  }
 },
 "nbformat": 4,
 "nbformat_minor": 5
}
